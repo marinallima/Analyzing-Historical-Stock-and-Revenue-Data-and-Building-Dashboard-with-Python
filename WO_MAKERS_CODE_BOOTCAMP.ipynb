{
  "nbformat": 4,
  "nbformat_minor": 0,
  "metadata": {
    "colab": {
      "provenance": [],
      "authorship_tag": "ABX9TyMtp7lOqLxboi8rgPmvid2r",
      "include_colab_link": true
    },
    "kernelspec": {
      "name": "python3",
      "display_name": "Python 3"
    },
    "language_info": {
      "name": "python"
    }
  },
  "cells": [
    {
      "cell_type": "markdown",
      "metadata": {
        "id": "view-in-github",
        "colab_type": "text"
      },
      "source": [
        "<a href=\"https://colab.research.google.com/github/marinallima/Analyzing-Historical-Stock-and-Revenue-Data-and-Building-Dashboard-with-Python/blob/main/WO_MAKERS_CODE_BOOTCAMP.ipynb\" target=\"_parent\"><img src=\"https://colab.research.google.com/assets/colab-badge.svg\" alt=\"Open In Colab\"/></a>"
      ]
    },
    {
      "cell_type": "markdown",
      "source": [
        "1 ) Para determinar se um candidato está qualificado para uma vaga de emprego, são aplicados dois critérios:\n",
        "\n",
        "a) O candidato deve ter uma presença igual ou superior a 60% em um treinamento obrigatório.\n",
        "\n",
        "b) O candidato deve ter uma média de desempenho igual ou superior a 7 em uma série de testes.\n",
        "\n",
        "Para auxiliar na avaliação dos candidatos, você deve criar uma função que recebe uma lista de dicionários contendo o nome do candidato, a média de desempenho e a quantidade de horas de ausência do treinamento. Com esses dados, a função deve calcular se o candidato está qualificado ou não. A presença do candidato é calculada considerando que o treinamento teve um total de 60 horas e utilizando a fórmula:\n",
        "\n",
        "(Total horas - número de faltas)/Total horas * 100;"
      ],
      "metadata": {
        "id": "BQ95ZdE7AKAu"
      }
    },
    {
      "cell_type": "code",
      "source": [
        "def avaliar_candidatos(candidatos):\n",
        "    for candidato in candidatos:\n",
        "        nome = candidato['nome']\n",
        "        media_desempenho = candidato['media_desempenho']\n",
        "        horas_ausencia = candidato['horas_ausencia']\n",
        "\n",
        "        # Calcular a presença do candidato\n",
        "        total_horas_treinamento = 60\n",
        "        presenca = ((total_horas_treinamento - horas_ausencia) / total_horas_treinamento) * 100\n",
        "\n",
        "        # Verificar os critérios de qualificação\n",
        "        if presenca >= 60 and media_desempenho >= 7:\n",
        "            print(f\"{nome} está qualificado para a vaga.\")\n",
        "        else:\n",
        "            print(f\"{nome} não está qualificado para a vaga.\")\n",
        "\n",
        "# Exemplo de uso:\n",
        "candidatos = [\n",
        "    {'nome': 'João', 'media_desempenho': 8, 'horas_ausencia': 10},\n",
        "    {'nome': 'Maria', 'media_desempenho': 6, 'horas_ausencia': 5},\n",
        "    {'nome': 'Pedro', 'media_desempenho': 7.5, 'horas_ausencia': 20},\n",
        "]\n",
        "\n",
        "avaliar_candidatos(candidatos)\n"
      ],
      "metadata": {
        "colab": {
          "base_uri": "https://localhost:8080/"
        },
        "id": "alfVm4x5ASKH",
        "outputId": "b5c7ba8b-78bc-43d4-ed5e-8c4f6de95de6"
      },
      "execution_count": null,
      "outputs": [
        {
          "output_type": "stream",
          "name": "stdout",
          "text": [
            "João está qualificado para a vaga.\n",
            "Maria não está qualificado para a vaga.\n",
            "Pedro está qualificado para a vaga.\n"
          ]
        }
      ]
    },
    {
      "cell_type": "markdown",
      "source": [
        "2) Crie uma função que recebe uma palavra (string), separa todos os caracteres em uma lista, retorna esta lista e quantidade de letras."
      ],
      "metadata": {
        "id": "sHNlOt8LAXHP"
      }
    },
    {
      "cell_type": "code",
      "source": [
        "def separar_caracteres(palavra):\n",
        "    # Separar todos os caracteres em uma lista\n",
        "    lista_caracteres = list(palavra)\n",
        "\n",
        "    # Calcular a quantidade de letras na palavra\n",
        "    quantidade_letras = sum(c.isalpha() for c in palavra)\n",
        "\n",
        "    # Retornar a lista de caracteres e a quantidade de letras\n",
        "    return lista_caracteres, quantidade_letras\n",
        "\n",
        "# Exemplo de uso:\n",
        "palavra_exemplo = \"Python123\"\n",
        "caracteres, qtd_letras = separar_caracteres(palavra_exemplo)\n",
        "\n",
        "print(f\"Lista de caracteres: {caracteres}\")\n",
        "print(f\"Quantidade de letras: {qtd_letras}\")\n"
      ],
      "metadata": {
        "colab": {
          "base_uri": "https://localhost:8080/"
        },
        "id": "sLU-XXeTAcI3",
        "outputId": "07317cfc-08a4-41eb-9b40-e9c4ff974e5e"
      },
      "execution_count": null,
      "outputs": [
        {
          "output_type": "stream",
          "name": "stdout",
          "text": [
            "Lista de caracteres: ['P', 'y', 't', 'h', 'o', 'n', '1', '2', '3']\n",
            "Quantidade de letras: 6\n"
          ]
        }
      ]
    },
    {
      "cell_type": "markdown",
      "source": [
        "3) Crie um programa que leia quanto dinheiro uma pessoa tem na carteira, e calcule quanto poderia comprar de cada moeda estrangeira. Considere a tabela de conversão abaixo:\n",
        "\n",
        "Valor convertido em real:\n",
        "*   Dólar Americano: 4,91\n",
        "*   Peso Argentino: 0,02\n",
        "*   Dólar Australiano: 3,18\n",
        "*   Dólar Canadense: 3,64\n",
        "*   Franco Suiço: 0,42\n",
        "*   Euro:  5,36\n",
        "*   Libra esterlina: 6,21\n",
        "\n"
      ],
      "metadata": {
        "id": "m2dvLhY3Ahd9"
      }
    },
    {
      "cell_type": "code",
      "source": [
        "def converter_para_moeda(valor_em_real, taxa_de_cambio):\n",
        "    valor_convertido = valor_em_real * taxa_de_cambio\n",
        "    return valor_convertido\n",
        "\n",
        "def main():\n",
        "    valor_em_real = float(input(\"Digite quanto dinheiro você tem na carteira em reais: \"))\n",
        "\n",
        "    taxas_de_cambio = {\n",
        "        'Dólar Americano': 4.91,\n",
        "        'Peso Argentino': 0.02,\n",
        "        'Dólar Australiano': 3.18,\n",
        "        'Dólar Canadense': 3.64,\n",
        "        'Franco Suiço': 0.42,\n",
        "        'Euro': 5.36,\n",
        "        'Libra esterlina': 6.21\n",
        "    }\n",
        "\n",
        "    print(\"\\nValor convertido em cada moeda estrangeira:\")\n",
        "    for moeda, taxa in taxas_de_cambio.items():\n",
        "        valor_convertido = converter_para_moeda(valor_em_real, taxa)\n",
        "        print(f\"{moeda}: {valor_convertido:.2f}\")\n",
        "\n",
        "if __name__ == \"__main__\":\n",
        "    main()\n"
      ],
      "metadata": {
        "colab": {
          "base_uri": "https://localhost:8080/"
        },
        "id": "42EzZow0Au33",
        "outputId": "afcbf22a-8fdd-4945-d56d-a5e6629c8368"
      },
      "execution_count": null,
      "outputs": [
        {
          "output_type": "stream",
          "name": "stdout",
          "text": [
            "Digite quanto dinheiro você tem na carteira em reais: 20\n",
            "\n",
            "Valor convertido em cada moeda estrangeira:\n",
            "Dólar Americano: 98.20\n",
            "Peso Argentino: 0.40\n",
            "Dólar Australiano: 63.60\n",
            "Dólar Canadense: 72.80\n",
            "Franco Suiço: 8.40\n",
            "Euro: 107.20\n",
            "Libra esterlina: 124.20\n"
          ]
        }
      ]
    },
    {
      "cell_type": "markdown",
      "source": [
        "4) O chefe decidiu premiar os melhores funcionários de sua empresa com um brinde. Para isso ela vai entregar um brinde para todos os funcionários que tiverem uma performance superior a média da equipe.\n",
        "\n",
        "Elabore uma função que recebe uma lista de nome em formato de dict (dicionário) com nome do funcionário e a média do funcionário (Valor de 0 a 10). Esta função deve calcular a média da equipe, identificar quais funcionários tem média igual ou superior a média da equipe e retornar uma lista com o nome dos funcionários que possuem média igual ou superior a média da equipe. A ordem dos nomes da lista de retorno deve ser em ordem decrescente."
      ],
      "metadata": {
        "id": "maL3vfiNAzLj"
      }
    },
    {
      "cell_type": "code",
      "source": [
        "def premiar_funcionarios(lista_funcionarios):\n",
        "    # Calcular a média da equipe\n",
        "    media_equipe = sum(funcionario['media'] for funcionario in lista_funcionarios) / len(lista_funcionarios)\n",
        "\n",
        "    # Identificar os funcionários com média igual ou superior à média da equipe\n",
        "    funcionarios_premiados = [funcionario['nome'] for funcionario in lista_funcionarios if funcionario['media'] >= media_equipe]\n",
        "\n",
        "    # Ordenar a lista em ordem decrescente\n",
        "    funcionarios_premiados.sort(reverse=True)\n",
        "\n",
        "    return funcionarios_premiados\n",
        "\n",
        "# Exemplo de uso:\n",
        "funcionarios = [\n",
        "    {'nome': 'Alice', 'media': 8.5},\n",
        "    {'nome': 'Bob', 'media': 7.0},\n",
        "    {'nome': 'Charlie', 'media': 9.8},\n",
        "    {'nome': 'David', 'media': 6.5},\n",
        "    {'nome': 'Eva', 'media': 8.0}\n",
        "]\n",
        "\n",
        "premiados = premiar_funcionarios(funcionarios)\n",
        "print(\"Funcionários premiados:\", premiados)\n"
      ],
      "metadata": {
        "colab": {
          "base_uri": "https://localhost:8080/"
        },
        "id": "sn5PCzsyA2cz",
        "outputId": "1b6bda90-bd98-46bb-e969-aacec004e3db"
      },
      "execution_count": null,
      "outputs": [
        {
          "output_type": "stream",
          "name": "stdout",
          "text": [
            "Funcionários premiados: ['Eva', 'Charlie', 'Alice']\n"
          ]
        }
      ]
    },
    {
      "cell_type": "markdown",
      "source": [
        "5) Na variável países_ano, temos uma lista de listas, em que cada elemento é uma lista de dois elementos, em que o primeiro é o nome de um país e o segundo é o ano em que a nação foi fundada.5) Na variável países_ano, temos uma lista de listas, em que cada elemento é uma lista de dois elementos, em que o primeiro é o nome de um país e o segundo é o ano em que a nação foi fundada.\n"
      ],
      "metadata": {
        "id": "lolI5u0LA-tx"
      }
    },
    {
      "cell_type": "code",
      "source": [
        "lista_paises = [[\"Brasil\", \"1500\"],[\"Mexico\",\"1519\"], [\"Inglaterra\", \"927\"], [\"Espanha\",\"1978\"], [\"Escocia\", \"843\"]]"
      ],
      "metadata": {
        "id": "XHP73gtKBANB"
      },
      "execution_count": null,
      "outputs": []
    },
    {
      "cell_type": "markdown",
      "source": [
        "Você deseja criar uma nova lista de listas a partir do exemplo (lista_paises), em que cada elemento é uma lista de dois elementos, sendo o primeiro o nome do país (como é na lista original) e o segundo é o número de anos desde a fundação do país (considere que o ano atual é 2023).\n"
      ],
      "metadata": {
        "id": "MlU2XbtVBI06"
      }
    },
    {
      "cell_type": "code",
      "source": [
        "from datetime import datetime\n",
        "\n",
        "def calcular_anos_desde_fundacao(ano_fundacao):\n",
        "    ano_atual = datetime.now().year\n",
        "    return ano_atual - int(ano_fundacao)\n",
        "\n",
        "def criar_lista_anos_desde_fundacao(lista_paises):\n",
        "    lista_resultante = []\n",
        "\n",
        "    for pais, ano_fundacao in lista_paises:\n",
        "        anos_desde_fundacao = calcular_anos_desde_fundacao(ano_fundacao)\n",
        "        nova_lista = [pais, anos_desde_fundacao]\n",
        "        lista_resultante.append(nova_lista)\n",
        "\n",
        "    return lista_resultante\n",
        "\n",
        "# Exemplo de uso:\n",
        "lista_paises = [[\"Brasil\", \"1500\"], [\"Mexico\", \"1519\"], [\"Inglaterra\", \"927\"], [\"Espanha\", \"1978\"], [\"Escocia\", \"843\"]]\n",
        "nova_lista_paises = criar_lista_anos_desde_fundacao(lista_paises)\n",
        "\n",
        "# Exibindo o resultado\n",
        "for pais, anos_desde_fundacao in nova_lista_paises:\n",
        "    print(f\"{pais}: {anos_desde_fundacao} anos desde a fundação\")\n"
      ],
      "metadata": {
        "colab": {
          "base_uri": "https://localhost:8080/"
        },
        "id": "RjbTpevfBMy7",
        "outputId": "5aa99505-6745-4aaa-b19d-1b87f6304485"
      },
      "execution_count": null,
      "outputs": [
        {
          "output_type": "stream",
          "name": "stdout",
          "text": [
            "Brasil: 523 anos desde a fundação\n",
            "Mexico: 504 anos desde a fundação\n",
            "Inglaterra: 1096 anos desde a fundação\n",
            "Espanha: 45 anos desde a fundação\n",
            "Escocia: 1180 anos desde a fundação\n"
          ]
        }
      ]
    },
    {
      "cell_type": "markdown",
      "source": [
        "6) Um jogador de um jogo de vídeo game deseja subir de nível em seu personagem ao atingir 50 inimigos derrotados. Enquanto esse número não é alcançado, uma mensagem indicando quantos inimigos ainda faltam é exibida na tela.\n"
      ],
      "metadata": {
        "id": "7xCNTH5IBU2O"
      }
    },
    {
      "cell_type": "code",
      "source": [
        "inimigos_derrotados = 0\n",
        "nivel = 0\n",
        "\n",
        "while inimigos_derrotados < 50:\n",
        "    # Simulando a derrota de inimigos (você pode substituir isso pela lógica real do seu jogo)\n",
        "    inimigos_derrotados += 1\n",
        "\n",
        "    print(f\"Faltam {50 - inimigos_derrotados} inimigos para você mudar de nível!\")\n",
        "\n",
        "# Ao sair do loop, significa que atingiu 50 inimigos e pode subir de nível\n",
        "print(\"\\nVocê atingiu o próximo nível!\")\n",
        "nivel = 1\n"
      ],
      "metadata": {
        "colab": {
          "base_uri": "https://localhost:8080/"
        },
        "id": "CxqDRVdQBgNB",
        "outputId": "01832994-cb81-409f-cfab-1c9b4e519e79"
      },
      "execution_count": null,
      "outputs": [
        {
          "output_type": "stream",
          "name": "stdout",
          "text": [
            "Faltam 49 inimigos para você mudar de nível!\n",
            "Faltam 48 inimigos para você mudar de nível!\n",
            "Faltam 47 inimigos para você mudar de nível!\n",
            "Faltam 46 inimigos para você mudar de nível!\n",
            "Faltam 45 inimigos para você mudar de nível!\n",
            "Faltam 44 inimigos para você mudar de nível!\n",
            "Faltam 43 inimigos para você mudar de nível!\n",
            "Faltam 42 inimigos para você mudar de nível!\n",
            "Faltam 41 inimigos para você mudar de nível!\n",
            "Faltam 40 inimigos para você mudar de nível!\n",
            "Faltam 39 inimigos para você mudar de nível!\n",
            "Faltam 38 inimigos para você mudar de nível!\n",
            "Faltam 37 inimigos para você mudar de nível!\n",
            "Faltam 36 inimigos para você mudar de nível!\n",
            "Faltam 35 inimigos para você mudar de nível!\n",
            "Faltam 34 inimigos para você mudar de nível!\n",
            "Faltam 33 inimigos para você mudar de nível!\n",
            "Faltam 32 inimigos para você mudar de nível!\n",
            "Faltam 31 inimigos para você mudar de nível!\n",
            "Faltam 30 inimigos para você mudar de nível!\n",
            "Faltam 29 inimigos para você mudar de nível!\n",
            "Faltam 28 inimigos para você mudar de nível!\n",
            "Faltam 27 inimigos para você mudar de nível!\n",
            "Faltam 26 inimigos para você mudar de nível!\n",
            "Faltam 25 inimigos para você mudar de nível!\n",
            "Faltam 24 inimigos para você mudar de nível!\n",
            "Faltam 23 inimigos para você mudar de nível!\n",
            "Faltam 22 inimigos para você mudar de nível!\n",
            "Faltam 21 inimigos para você mudar de nível!\n",
            "Faltam 20 inimigos para você mudar de nível!\n",
            "Faltam 19 inimigos para você mudar de nível!\n",
            "Faltam 18 inimigos para você mudar de nível!\n",
            "Faltam 17 inimigos para você mudar de nível!\n",
            "Faltam 16 inimigos para você mudar de nível!\n",
            "Faltam 15 inimigos para você mudar de nível!\n",
            "Faltam 14 inimigos para você mudar de nível!\n",
            "Faltam 13 inimigos para você mudar de nível!\n",
            "Faltam 12 inimigos para você mudar de nível!\n",
            "Faltam 11 inimigos para você mudar de nível!\n",
            "Faltam 10 inimigos para você mudar de nível!\n",
            "Faltam 9 inimigos para você mudar de nível!\n",
            "Faltam 8 inimigos para você mudar de nível!\n",
            "Faltam 7 inimigos para você mudar de nível!\n",
            "Faltam 6 inimigos para você mudar de nível!\n",
            "Faltam 5 inimigos para você mudar de nível!\n",
            "Faltam 4 inimigos para você mudar de nível!\n",
            "Faltam 3 inimigos para você mudar de nível!\n",
            "Faltam 2 inimigos para você mudar de nível!\n",
            "Faltam 1 inimigos para você mudar de nível!\n",
            "Faltam 0 inimigos para você mudar de nível!\n",
            "\n",
            "Você atingiu o próximo nível!\n"
          ]
        }
      ]
    }
  ]
}